{
 "cells": [
  {
   "cell_type": "code",
   "execution_count": 1,
   "metadata": {
    "collapsed": false
   },
   "outputs": [
    {
     "name": "stdout",
     "output_type": "stream",
     "text": [
      "train_data.shape: (42000, 785)\n",
      "train_set.shape: (33600, 785)\n",
      "val_set.shape: (8400, 785)\n"
     ]
    }
   ],
   "source": [
    "import numpy as np\n",
    "import pandas as pd\n",
    "from sklearn.model_selection  import train_test_split\n",
    "import torch\n",
    "from torch.utils.data import DataLoader\n",
    "from torch import nn\n",
    "from torch.autograd import Variable\n",
    " \n",
    "def train_val_split(train = 'train.csv',train_flie='train_set.csv',val_file='val_set.csv'):\n",
    "    #training set \"train.csv\" was downloaded from kaggle.com\n",
    "    train_data = pd.read_csv(train)    \n",
    "    #training datas contains Feature and Label.\n",
    "    #divide training datas into training set and validation set \n",
    "    train_set, val_set = train_test_split(train_data, test_size = 0.2)\n",
    "    #wirte csv files\n",
    "    train_set.to_csv(train_flie,index = False )\n",
    "    val_set.to_csv(val_file,index = False )\n",
    "    print('train_data.shape:',train_data.shape)\n",
    "    print('train_set.shape:',train_set.shape)\n",
    "    print('val_set.shape:',val_set.shape)\n",
    " \n",
    "train_val_split('train.csv','train_set.csv','val_set.csv')"
   ]
  },
  {
   "cell_type": "code",
   "execution_count": 2,
   "metadata": {
    "collapsed": true
   },
   "outputs": [],
   "source": [
    " \n",
    "#image preprocessing to Gaussian distribution from -1 to 1\n",
    "def data_tf(x):\n",
    "    x = np.array(x, dtype='float32') / 255\n",
    "    x = (x - 0.5) / 0.5 # 标准化\n",
    "    x = torch.from_numpy(x)\n",
    "    return x   \n",
    " \n",
    "#define the class of my MNIST dataset\n",
    "class MyMNIST(torch.utils.data.Dataset): #创建自己的类：MyMNIST,这个类是继承的torch.utils.data.Dataset\n",
    "    def __init__(self, datatxt, train=True, transform = data_tf, target_transform=None): #初始化一些需要传入的参数\n",
    "        self.data = pd.read_csv(datatxt)   \n",
    "        self.transform = transform\n",
    "        self.train = train \n",
    "        if self.train:\n",
    "            self.X = self.data.iloc[:,1:]\n",
    "            self.X = np.array(self.X)\n",
    "            self.y = self.data.iloc[:,0]\n",
    "            self.y = np.array(self.y)\n",
    "        else :\n",
    "            self.X = self.data\n",
    "            self.X = np.array(self.X)\n",
    "                        \n",
    "    def __getitem__(self, index):    #这个方法是必须要有的，用于按照索引读取每个元素的具体内容\n",
    "        im = torch.tensor(self.X[index], dtype = torch.float)\n",
    "        if self.transform is not None:\n",
    "            im = self.transform(im)\n",
    "        if self.train:\n",
    "            label = torch.tensor(self.y[index], dtype = torch.long )\n",
    "            return im, label\n",
    "        else:\n",
    "            return im\n",
    "    def __len__(self): #return the length of batch\n",
    "        return len(self.data)    \n",
    " \n",
    "#Build trainset validset and testset from csv and perform data preprocessing\n",
    "X_train = MyMNIST(datatxt = 'train_set.csv',train=True, transform = data_tf)\n",
    "X_val = MyMNIST(datatxt= 'val_set.csv',train=True, transform = data_tf)\n",
    "X_test = MyMNIST(datatxt = 'test.csv',train=False, transform = data_tf)\n",
    "#iterator of our dataset\n",
    "train_data = DataLoader(X_train, batch_size=64, shuffle=True)\n",
    "val_data = DataLoader(X_val, batch_size=64, shuffle=False)\n",
    "test_data = DataLoader(X_test, batch_size=1000, shuffle=False) \n"
   ]
  },
  {
   "cell_type": "code",
   "execution_count": null,
   "metadata": {
    "collapsed": true
   },
   "outputs": [],
   "source": []
  }
 ],
 "metadata": {
  "kernelspec": {
   "display_name": "Python 3",
   "language": "python",
   "name": "python3"
  },
  "language_info": {
   "codemirror_mode": {
    "name": "ipython",
    "version": 3
   },
   "file_extension": ".py",
   "mimetype": "text/x-python",
   "name": "python",
   "nbconvert_exporter": "python",
   "pygments_lexer": "ipython3",
   "version": "3.6.6"
  }
 },
 "nbformat": 4,
 "nbformat_minor": 2
}
